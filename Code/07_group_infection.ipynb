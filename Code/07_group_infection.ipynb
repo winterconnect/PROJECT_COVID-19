{
 "cells": [
  {
   "cell_type": "markdown",
   "metadata": {},
   "source": [
    "# 7. 지도 그래프 \n",
    "# 지역(서울, 경기, 대구, 경북), 6월 30일 기준, 누적확진자의 집단감염 여부 비율 (바그래프)\n",
    "# 집단 감염의 비율 %수\n",
    "# 집단 감염이 얼마나 큰 영향을 끼쳤는지 확인 (1번 인사이트)"
   ]
  },
  {
   "cell_type": "code",
   "execution_count": 50,
   "metadata": {},
   "outputs": [],
   "source": [
    "import pandas as pd\n",
    "import matplotlib.pyplot as plt\n",
    "import seaborn as sns\n",
    "from pprint import pprint as pp\n",
    "from inspect import signature as sig\n",
    "\n",
    "df_case = pd.read_csv('./DataScienceforCOVID19/Case.csv')\n",
    "df_patientinfo = pd.read_csv('./DataScienceforCOVID19/PatientInfo.csv')\n",
    "df_patientroute = pd.read_csv('./DataScienceforCOVID19/PatientRoute.csv')\n",
    "df_timeprovince = pd.read_csv('./DataScienceforCOVID19/TimeProvince.csv')"
   ]
  },
  {
   "cell_type": "markdown",
   "metadata": {},
   "source": [
    "< 지역별로 집단감염과 비집단감염의 누적 확진자 수 비율 >"
   ]
  },
  {
   "cell_type": "code",
   "execution_count": 51,
   "metadata": {},
   "outputs": [
    {
     "data": {
      "text/html": [
       "<div>\n",
       "<style scoped>\n",
       "    .dataframe tbody tr th:only-of-type {\n",
       "        vertical-align: middle;\n",
       "    }\n",
       "\n",
       "    .dataframe tbody tr th {\n",
       "        vertical-align: top;\n",
       "    }\n",
       "\n",
       "    .dataframe thead th {\n",
       "        text-align: right;\n",
       "    }\n",
       "</style>\n",
       "<table border=\"1\" class=\"dataframe\">\n",
       "  <thead>\n",
       "    <tr style=\"text-align: right;\">\n",
       "      <th></th>\n",
       "      <th>case_id</th>\n",
       "      <th>province</th>\n",
       "      <th>city</th>\n",
       "      <th>group</th>\n",
       "      <th>infection_case</th>\n",
       "      <th>confirmed</th>\n",
       "      <th>latitude</th>\n",
       "      <th>longitude</th>\n",
       "    </tr>\n",
       "  </thead>\n",
       "  <tbody>\n",
       "    <tr>\n",
       "      <th>48</th>\n",
       "      <td>1200001</td>\n",
       "      <td>Daegu</td>\n",
       "      <td>Nam-gu</td>\n",
       "      <td>True</td>\n",
       "      <td>Shincheonji Church</td>\n",
       "      <td>4511</td>\n",
       "      <td>35.84008</td>\n",
       "      <td>128.5667</td>\n",
       "    </tr>\n",
       "    <tr>\n",
       "      <th>49</th>\n",
       "      <td>1200002</td>\n",
       "      <td>Daegu</td>\n",
       "      <td>Dalseong-gun</td>\n",
       "      <td>True</td>\n",
       "      <td>Second Mi-Ju Hospital</td>\n",
       "      <td>196</td>\n",
       "      <td>35.857375</td>\n",
       "      <td>128.466651</td>\n",
       "    </tr>\n",
       "    <tr>\n",
       "      <th>50</th>\n",
       "      <td>1200003</td>\n",
       "      <td>Daegu</td>\n",
       "      <td>Seo-gu</td>\n",
       "      <td>True</td>\n",
       "      <td>Hansarang Convalescent Hospital</td>\n",
       "      <td>124</td>\n",
       "      <td>35.885592</td>\n",
       "      <td>128.556649</td>\n",
       "    </tr>\n",
       "    <tr>\n",
       "      <th>51</th>\n",
       "      <td>1200004</td>\n",
       "      <td>Daegu</td>\n",
       "      <td>Dalseong-gun</td>\n",
       "      <td>True</td>\n",
       "      <td>Daesil Convalescent Hospital</td>\n",
       "      <td>101</td>\n",
       "      <td>35.857393</td>\n",
       "      <td>128.466653</td>\n",
       "    </tr>\n",
       "    <tr>\n",
       "      <th>52</th>\n",
       "      <td>1200005</td>\n",
       "      <td>Daegu</td>\n",
       "      <td>Dong-gu</td>\n",
       "      <td>True</td>\n",
       "      <td>Fatima Hospital</td>\n",
       "      <td>39</td>\n",
       "      <td>35.88395</td>\n",
       "      <td>128.624059</td>\n",
       "    </tr>\n",
       "    <tr>\n",
       "      <th>53</th>\n",
       "      <td>1200006</td>\n",
       "      <td>Daegu</td>\n",
       "      <td>from other city</td>\n",
       "      <td>True</td>\n",
       "      <td>Itaewon Clubs</td>\n",
       "      <td>2</td>\n",
       "      <td>-</td>\n",
       "      <td>-</td>\n",
       "    </tr>\n",
       "    <tr>\n",
       "      <th>54</th>\n",
       "      <td>1200007</td>\n",
       "      <td>Daegu</td>\n",
       "      <td>from other city</td>\n",
       "      <td>True</td>\n",
       "      <td>Cheongdo Daenam Hospital</td>\n",
       "      <td>2</td>\n",
       "      <td>-</td>\n",
       "      <td>-</td>\n",
       "    </tr>\n",
       "  </tbody>\n",
       "</table>\n",
       "</div>"
      ],
      "text/plain": [
       "     case_id province             city  group  \\\n",
       "48   1200001    Daegu           Nam-gu   True   \n",
       "49   1200002    Daegu     Dalseong-gun   True   \n",
       "50   1200003    Daegu           Seo-gu   True   \n",
       "51   1200004    Daegu     Dalseong-gun   True   \n",
       "52   1200005    Daegu          Dong-gu   True   \n",
       "53   1200006    Daegu  from other city   True   \n",
       "54   1200007    Daegu  from other city   True   \n",
       "\n",
       "                     infection_case  confirmed   latitude   longitude  \n",
       "48               Shincheonji Church       4511   35.84008    128.5667  \n",
       "49            Second Mi-Ju Hospital        196  35.857375  128.466651  \n",
       "50  Hansarang Convalescent Hospital        124  35.885592  128.556649  \n",
       "51     Daesil Convalescent Hospital        101  35.857393  128.466653  \n",
       "52                  Fatima Hospital         39   35.88395  128.624059  \n",
       "53                    Itaewon Clubs          2          -           -  \n",
       "54         Cheongdo Daenam Hospital          2          -           -  "
      ]
     },
     "execution_count": 51,
     "metadata": {},
     "output_type": "execute_result"
    }
   ],
   "source": [
    "# groupCase는 그룹감염인 케이스들만 뽑은 데이터 프레임\n",
    "# bigCase는 확진자수를 기준으로 내림차순으로 케이스를 정렬한 데이터 프레임 --> 확진자가 많은 케이스들을 보기 위한 것이었을 뿐 \n",
    "bigCase = df_case.sort_values(by=['confirmed'], ascending=False)\n",
    "groupCase = bigCase[bigCase.group== True]\n",
    "groupCase[groupCase.province==\"Daegu\"]"
   ]
  },
  {
   "cell_type": "code",
   "execution_count": 52,
   "metadata": {},
   "outputs": [
    {
     "data": {
      "text/plain": [
       "array(['Shincheonji Church', 'Second Mi-Ju Hospital', 'Itaewon Clubs',\n",
       "       'Hansarang Convalescent Hospital', 'Richway',\n",
       "       'Cheongdo Daenam Hospital', 'gym facility in Cheonan',\n",
       "       'Daesil Convalescent Hospital', 'Guro-gu Call Center',\n",
       "       'Bonghwa Pureun Nursing Home', 'River of Grace Community Church',\n",
       "       'Coupang Logistics Center', 'Gyeongsan Seorin Nursing Home',\n",
       "       'Door-to-door sales in Daejeon', 'Uijeongbu St. Mary’s Hospital',\n",
       "       'Yangcheon Table Tennis Club', 'Day Care Center',\n",
       "       'Pilgrimage to Israel', 'Manmin Central Church', 'Yechun-gun',\n",
       "       'Onchun Church', 'Fatima Hospital', 'Milal Shelter',\n",
       "       'SMR Newly Planted Churches Group',\n",
       "       'Ministry of Oceans and Fisheries', 'Wangsung Church',\n",
       "       'Anyang Gunpo Pastors Group', 'Bundang Jesaeng Hospital',\n",
       "       'Lord Glory Church', 'Dongan Church', 'Gyeongsan Jeil Silver Town',\n",
       "       'Gyeongsan Cham Joeun Community Center',\n",
       "       'Lotte Confectionery logistics center',\n",
       "       \"Eunpyeong St. Mary's Hospital\", 'Seongdong-gu APT',\n",
       "       'KB Life Insurance', 'Dunsan Electronics Town',\n",
       "       'Goesan-gun Jangyeon-myeon', 'Gumi Elim Church',\n",
       "       'Jongno Community Center', 'Geochang Church',\n",
       "       'Suwon Saeng Myeong Saem Church', 'Seosan-si Laboratory',\n",
       "       'Wings Tower', 'Geochang-gun Woongyang-myeon',\n",
       "       'gym facility in Sejong', 'Korea Campus Crusade of Christ',\n",
       "       'Jung-gu Fashion Company', 'Orange Town', 'Samsung Medical Center',\n",
       "       'Hanmaeum Changwon Hospital', 'Changnyeong Coin Karaoke',\n",
       "       'Geumcheon-gu rice milling machine manufacture',\n",
       "       'Haeundae-gu Catholic Church', 'Gangnam Yeoksam-dong gathering',\n",
       "       'Gwangneuksa Temple', 'Seoul City Hall Station safety worker',\n",
       "       'Suyeong-gu Kindergarten', 'Guri Collective Infection',\n",
       "       'Yeonana News Class', 'Seocho Family',\n",
       "       'Seongnam neighbors gathering', 'Dreaming Church',\n",
       "       'Samsung Fire & Marine Insurance', 'Yongin Brothers',\n",
       "       'Jin-gu Academy', 'Wonju-si Apartments',\n",
       "       'Biblical Language study meeting', 'Soso Seowon',\n",
       "       'Yeongdeungpo Learning Institute',\n",
       "       'Korea Forest Engineer Institute', 'Daezayeon Korea',\n",
       "       'Eunpyeong-Boksagol culture center', 'Uiwang Logistics Center',\n",
       "       'Gangnam Dongin Church', 'Daejeon door-to-door sales',\n",
       "       'Orange Life', 'SJ Investment Call Center'], dtype=object)"
      ]
     },
     "execution_count": 52,
     "metadata": {},
     "output_type": "execute_result"
    }
   ],
   "source": [
    "# gcArray는 집단 감염 케이스명을 담아놓은 배열\n",
    "gcArray = groupCase.infection_case.unique()\n",
    "gcArray "
   ]
  },
  {
   "cell_type": "code",
   "execution_count": 53,
   "metadata": {},
   "outputs": [
    {
     "data": {
      "text/plain": [
       "array(['Seoul', 'Busan', 'Daegu', 'Gwangju', 'Incheon', 'Daejeon',\n",
       "       'Ulsan', 'Sejong', 'Gyeonggi-do', 'Gangwon-do',\n",
       "       'Chungcheongbuk-do', 'Chungcheongnam-do', 'Jeollabuk-do',\n",
       "       'Jeollanam-do', 'Gyeongsangbuk-do', 'Gyeongsangnam-do', 'Jeju-do'],\n",
       "      dtype=object)"
      ]
     },
     "execution_count": 53,
     "metadata": {},
     "output_type": "execute_result"
    }
   ],
   "source": [
    "# gcProvince는 지역을 담아놓은 배열\n",
    "gcProvince = df_case.province.unique()\n",
    "gcProvince "
   ]
  },
  {
   "cell_type": "code",
   "execution_count": 54,
   "metadata": {},
   "outputs": [
    {
     "name": "stdout",
     "output_type": "stream",
     "text": [
      "Seoul  :  720\n",
      "Busan  :  71\n",
      "Daegu  :  4975\n",
      "Gwangju  :  14\n",
      "Incheon  :  117\n",
      "Daejeon  :  86\n",
      "Ulsan  :  16\n",
      "Sejong  :  40\n",
      "Gyeonggi-do  :  548\n",
      "Gangwon-do  :  39\n",
      "Chungcheongbuk-do  :  28\n",
      "Chungcheongnam-do  :  128\n",
      "Jeollabuk-do  :  6\n",
      "Jeollanam-do  :  3\n",
      "Gyeongsangbuk-do  :  979\n",
      "Gyeongsangnam-do  :  80\n",
      "Jeju-do  :  1\n",
      "[720, 71, 4975, 14, 117, 86, 16, 40, 548, 39, 28, 128, 6, 3, 979, 80, 1]\n",
      "<class 'list'>\n"
     ]
    }
   ],
   "source": [
    "# gcProvince에 있는 지역을 하나씩 트래버스 해서 그 지역과 같은 지역인 행들만 뽑아 데이터 프레임을 만든다. \n",
    "# 그리고 그 데이터 프레임에서 확진자 수를 뽑아서 sum에 더한다. \n",
    "# sum은 그 케이스의 누적 확진자 수가 되는 것!\n",
    "# comfirmedList는 집단감염으로 감염된 누적 확진자 수를 집단별로 뽑은 것이다. \n",
    "\n",
    "comfirmedList=[]\n",
    "for f in gcProvince  :\n",
    "    c = groupCase[groupCase.province == f]\n",
    "    sum = 0\n",
    "    for i in c.confirmed:\n",
    "        sum += i \n",
    "        pass #\n",
    "    comfirmedList.append(sum)\n",
    "    print(f, \" : \",sum)\n",
    "    pass #\n",
    "\n",
    "\n",
    "pp(comfirmedList)\n",
    "print(type(comfirmedList))"
   ]
  },
  {
   "cell_type": "code",
   "execution_count": 55,
   "metadata": {},
   "outputs": [
    {
     "data": {
      "text/html": [
       "<div>\n",
       "<style scoped>\n",
       "    .dataframe tbody tr th:only-of-type {\n",
       "        vertical-align: middle;\n",
       "    }\n",
       "\n",
       "    .dataframe tbody tr th {\n",
       "        vertical-align: top;\n",
       "    }\n",
       "\n",
       "    .dataframe thead th {\n",
       "        text-align: right;\n",
       "    }\n",
       "</style>\n",
       "<table border=\"1\" class=\"dataframe\">\n",
       "  <thead>\n",
       "    <tr style=\"text-align: right;\">\n",
       "      <th></th>\n",
       "      <th>Province</th>\n",
       "      <th>Confirmed</th>\n",
       "    </tr>\n",
       "  </thead>\n",
       "  <tbody>\n",
       "    <tr>\n",
       "      <th>0</th>\n",
       "      <td>Seoul</td>\n",
       "      <td>720</td>\n",
       "    </tr>\n",
       "    <tr>\n",
       "      <th>1</th>\n",
       "      <td>Busan</td>\n",
       "      <td>71</td>\n",
       "    </tr>\n",
       "    <tr>\n",
       "      <th>2</th>\n",
       "      <td>Daegu</td>\n",
       "      <td>4975</td>\n",
       "    </tr>\n",
       "    <tr>\n",
       "      <th>3</th>\n",
       "      <td>Gwangju</td>\n",
       "      <td>14</td>\n",
       "    </tr>\n",
       "    <tr>\n",
       "      <th>4</th>\n",
       "      <td>Incheon</td>\n",
       "      <td>117</td>\n",
       "    </tr>\n",
       "    <tr>\n",
       "      <th>5</th>\n",
       "      <td>Daejeon</td>\n",
       "      <td>86</td>\n",
       "    </tr>\n",
       "    <tr>\n",
       "      <th>6</th>\n",
       "      <td>Ulsan</td>\n",
       "      <td>16</td>\n",
       "    </tr>\n",
       "    <tr>\n",
       "      <th>7</th>\n",
       "      <td>Sejong</td>\n",
       "      <td>40</td>\n",
       "    </tr>\n",
       "    <tr>\n",
       "      <th>8</th>\n",
       "      <td>Gyeonggi-do</td>\n",
       "      <td>548</td>\n",
       "    </tr>\n",
       "    <tr>\n",
       "      <th>9</th>\n",
       "      <td>Gangwon-do</td>\n",
       "      <td>39</td>\n",
       "    </tr>\n",
       "    <tr>\n",
       "      <th>10</th>\n",
       "      <td>Chungcheongbuk-do</td>\n",
       "      <td>28</td>\n",
       "    </tr>\n",
       "    <tr>\n",
       "      <th>11</th>\n",
       "      <td>Chungcheongnam-do</td>\n",
       "      <td>128</td>\n",
       "    </tr>\n",
       "    <tr>\n",
       "      <th>12</th>\n",
       "      <td>Jeollabuk-do</td>\n",
       "      <td>6</td>\n",
       "    </tr>\n",
       "    <tr>\n",
       "      <th>13</th>\n",
       "      <td>Jeollanam-do</td>\n",
       "      <td>3</td>\n",
       "    </tr>\n",
       "    <tr>\n",
       "      <th>14</th>\n",
       "      <td>Gyeongsangbuk-do</td>\n",
       "      <td>979</td>\n",
       "    </tr>\n",
       "    <tr>\n",
       "      <th>15</th>\n",
       "      <td>Gyeongsangnam-do</td>\n",
       "      <td>80</td>\n",
       "    </tr>\n",
       "    <tr>\n",
       "      <th>16</th>\n",
       "      <td>Jeju-do</td>\n",
       "      <td>1</td>\n",
       "    </tr>\n",
       "  </tbody>\n",
       "</table>\n",
       "</div>"
      ],
      "text/plain": [
       "             Province  Confirmed\n",
       "0               Seoul        720\n",
       "1               Busan         71\n",
       "2               Daegu       4975\n",
       "3             Gwangju         14\n",
       "4             Incheon        117\n",
       "5             Daejeon         86\n",
       "6               Ulsan         16\n",
       "7              Sejong         40\n",
       "8         Gyeonggi-do        548\n",
       "9          Gangwon-do         39\n",
       "10  Chungcheongbuk-do         28\n",
       "11  Chungcheongnam-do        128\n",
       "12       Jeollabuk-do          6\n",
       "13       Jeollanam-do          3\n",
       "14   Gyeongsangbuk-do        979\n",
       "15   Gyeongsangnam-do         80\n",
       "16            Jeju-do          1"
      ]
     },
     "execution_count": 55,
     "metadata": {},
     "output_type": "execute_result"
    }
   ],
   "source": [
    "# 위의 정보를 테이블로 만듦\n",
    "group_infection = pd.DataFrame(\n",
    "    { \n",
    "    'Province' : ['Seoul', 'Busan', 'Daegu', 'Gwangju', 'Incheon', 'Daejeon',\n",
    "       'Ulsan', 'Sejong', 'Gyeonggi-do', 'Gangwon-do',\n",
    "       'Chungcheongbuk-do', 'Chungcheongnam-do', 'Jeollabuk-do',\n",
    "       'Jeollanam-do', 'Gyeongsangbuk-do', 'Gyeongsangnam-do', 'Jeju-do'],\n",
    "    'Confirmed':[720, 71, 4975, 14, 117, 86, 16, 40, 548, 39, 28, 128, 6, 3, 979, 80, 1]\n",
    "    },\n",
    ")\n",
    "group_infection "
   ]
  },
  {
   "cell_type": "code",
   "execution_count": 56,
   "metadata": {},
   "outputs": [
    {
     "data": {
      "text/plain": [
       "<Signature (nrows=1, ncols=1, sharex=False, sharey=False, squeeze=True, subplot_kw=None, gridspec_kw=None, **fig_kw)>"
      ]
     },
     "execution_count": 56,
     "metadata": {},
     "output_type": "execute_result"
    },
    {
     "data": {
      "image/png": "[encoded data removed]",
      "text/plain": [
       "<Figure size 1080x576 with 1 Axes>"
      ]
     },
     "metadata": {
      "needs_background": "light"
     },
     "output_type": "display_data"
    }
   ],
   "source": [
    "grid = plt.figure(figsize = (15,8))\n",
    "grid = plt.xticks(rotation = 30)\n",
    "grid = sns.barplot(data = group_infection, x='Province', y='Confirmed')\n",
    "sig(plt.subplots)"
   ]
  },
  {
   "cell_type": "markdown",
   "metadata": {},
   "source": [
    "2. 비집단감염 케이스만 모아서 데이터 프레임 새로 만듦"
   ]
  },
  {
   "cell_type": "code",
   "execution_count": 57,
   "metadata": {},
   "outputs": [
    {
     "data": {
      "text/html": [
       "<div>\n",
       "<style scoped>\n",
       "    .dataframe tbody tr th:only-of-type {\n",
       "        vertical-align: middle;\n",
       "    }\n",
       "\n",
       "    .dataframe tbody tr th {\n",
       "        vertical-align: top;\n",
       "    }\n",
       "\n",
       "    .dataframe thead th {\n",
       "        text-align: right;\n",
       "    }\n",
       "</style>\n",
       "<table border=\"1\" class=\"dataframe\">\n",
       "  <thead>\n",
       "    <tr style=\"text-align: right;\">\n",
       "      <th></th>\n",
       "      <th>case_id</th>\n",
       "      <th>province</th>\n",
       "      <th>city</th>\n",
       "      <th>group</th>\n",
       "      <th>infection_case</th>\n",
       "      <th>confirmed</th>\n",
       "      <th>latitude</th>\n",
       "      <th>longitude</th>\n",
       "    </tr>\n",
       "  </thead>\n",
       "  <tbody>\n",
       "    <tr>\n",
       "      <th>56</th>\n",
       "      <td>1200009</td>\n",
       "      <td>Daegu</td>\n",
       "      <td>-</td>\n",
       "      <td>False</td>\n",
       "      <td>contact with patient</td>\n",
       "      <td>917</td>\n",
       "      <td>-</td>\n",
       "      <td>-</td>\n",
       "    </tr>\n",
       "    <tr>\n",
       "      <th>57</th>\n",
       "      <td>1200010</td>\n",
       "      <td>Daegu</td>\n",
       "      <td>-</td>\n",
       "      <td>False</td>\n",
       "      <td>etc</td>\n",
       "      <td>747</td>\n",
       "      <td>-</td>\n",
       "      <td>-</td>\n",
       "    </tr>\n",
       "    <tr>\n",
       "      <th>109</th>\n",
       "      <td>2000020</td>\n",
       "      <td>Gyeonggi-do</td>\n",
       "      <td>-</td>\n",
       "      <td>False</td>\n",
       "      <td>overseas inflow</td>\n",
       "      <td>305</td>\n",
       "      <td>-</td>\n",
       "      <td>-</td>\n",
       "    </tr>\n",
       "    <tr>\n",
       "      <th>35</th>\n",
       "      <td>1000036</td>\n",
       "      <td>Seoul</td>\n",
       "      <td>-</td>\n",
       "      <td>False</td>\n",
       "      <td>overseas inflow</td>\n",
       "      <td>298</td>\n",
       "      <td>-</td>\n",
       "      <td>-</td>\n",
       "    </tr>\n",
       "    <tr>\n",
       "      <th>156</th>\n",
       "      <td>6000012</td>\n",
       "      <td>Gyeongsangbuk-do</td>\n",
       "      <td>-</td>\n",
       "      <td>False</td>\n",
       "      <td>contact with patient</td>\n",
       "      <td>190</td>\n",
       "      <td>-</td>\n",
       "      <td>-</td>\n",
       "    </tr>\n",
       "  </tbody>\n",
       "</table>\n",
       "</div>"
      ],
      "text/plain": [
       "      case_id          province city  group        infection_case  confirmed  \\\n",
       "56    1200009             Daegu    -  False  contact with patient        917   \n",
       "57    1200010             Daegu    -  False                   etc        747   \n",
       "109   2000020       Gyeonggi-do    -  False       overseas inflow        305   \n",
       "35    1000036             Seoul    -  False       overseas inflow        298   \n",
       "156   6000012  Gyeongsangbuk-do    -  False  contact with patient        190   \n",
       "\n",
       "    latitude longitude  \n",
       "56         -         -  \n",
       "57         -         -  \n",
       "109        -         -  \n",
       "35         -         -  \n",
       "156        -         -  "
      ]
     },
     "execution_count": 57,
     "metadata": {},
     "output_type": "execute_result"
    }
   ],
   "source": [
    "# notGroupCase는 그룹감염이 아닌 케이스들만 뽑은 데이터 프레임\n",
    "# bigCase는 확진자수를 기준으로 내림차순으로 케이스를 정렬한 데이터 프레임 --> 확진자가 많은 케이스들을 보기 위한 것이었을 뿐 \n",
    "bigCase2 = df_case.sort_values(by=['confirmed'], ascending=False)\n",
    "notGroupCase = bigCase2[bigCase2.group == False]\n",
    "notGroupCase.head()"
   ]
  },
  {
   "cell_type": "code",
   "execution_count": 58,
   "metadata": {},
   "outputs": [
    {
     "data": {
      "text/plain": [
       "array(['contact with patient', 'etc', 'overseas inflow'], dtype=object)"
      ]
     },
     "execution_count": 58,
     "metadata": {},
     "output_type": "execute_result"
    }
   ],
   "source": [
    "# gcArray는 비 집단 감염 케이스명을 담아놓은 배열\n",
    "ngcArray = notGroupCase.infection_case.unique()\n",
    "ngcArray "
   ]
  },
  {
   "cell_type": "code",
   "execution_count": 59,
   "metadata": {},
   "outputs": [
    {
     "data": {
      "text/plain": [
       "array(['Seoul', 'Busan', 'Daegu', 'Gwangju', 'Incheon', 'Daejeon',\n",
       "       'Ulsan', 'Sejong', 'Gyeonggi-do', 'Gangwon-do',\n",
       "       'Chungcheongbuk-do', 'Chungcheongnam-do', 'Jeollabuk-do',\n",
       "       'Jeollanam-do', 'Gyeongsangbuk-do', 'Gyeongsangnam-do', 'Jeju-do'],\n",
       "      dtype=object)"
      ]
     },
     "execution_count": 59,
     "metadata": {},
     "output_type": "execute_result"
    }
   ],
   "source": [
    "# ngcProvince는 지역을 담아놓은 배열\n",
    "ngcProvince = df_case.province.unique()\n",
    "ngcProvince "
   ]
  },
  {
   "cell_type": "code",
   "execution_count": 60,
   "metadata": {},
   "outputs": [
    {
     "name": "stdout",
     "output_type": "stream",
     "text": [
      "Seoul  :  560\n",
      "Busan  :  85\n",
      "Daegu  :  1705\n",
      "Gwangju  :  29\n",
      "Incheon  :  85\n",
      "Daejeon  :  45\n",
      "Ulsan  :  35\n",
      "Sejong  :  9\n",
      "Gyeonggi-do  :  452\n",
      "Gangwon-do  :  23\n",
      "Chungcheongbuk-do  :  32\n",
      "Chungcheongnam-do  :  30\n",
      "Jeollabuk-do  :  17\n",
      "Jeollanam-do  :  22\n",
      "Gyeongsangbuk-do  :  345\n",
      "Gyeongsangnam-do  :  52\n",
      "Jeju-do  :  18\n",
      "[560, 85, 1705, 29, 85, 45, 35, 9, 452, 23, 32, 30, 17, 22, 345, 52, 18]\n",
      "<class 'list'>\n"
     ]
    }
   ],
   "source": [
    "# ngcProvince에 있는 지역을 하나씩 트래버스 해서 그 지역과 같은 지역인 행들만 뽑아 데이터 프레임을 만든다. \n",
    "# 그리고 그 데이터 프레임에서 확진자 수를 뽑아서 sum에 더한다. \n",
    "# sum은 그 케이스의 누적 확진자 수가 되는 것!\n",
    "# comfirmedList는 집단감염으로 감염된 누적 확진자 수를 집단별로 뽑은 것이다. \n",
    "\n",
    "comfirmedList2=[]\n",
    "for f in ngcProvince  :\n",
    "    c = notGroupCase[notGroupCase.province == f]\n",
    "    sum = 0\n",
    "    for i in c.confirmed:\n",
    "        sum += i \n",
    "        pass #\n",
    "    comfirmedList2.append(sum)\n",
    "    print(f, \" : \",sum)\n",
    "    pass #\n",
    "\n",
    "\n",
    "pp(comfirmedList2)\n",
    "print(type(comfirmedList2))"
   ]
  },
  {
   "cell_type": "code",
   "execution_count": 61,
   "metadata": {},
   "outputs": [
    {
     "data": {
      "text/html": [
       "<div>\n",
       "<style scoped>\n",
       "    .dataframe tbody tr th:only-of-type {\n",
       "        vertical-align: middle;\n",
       "    }\n",
       "\n",
       "    .dataframe tbody tr th {\n",
       "        vertical-align: top;\n",
       "    }\n",
       "\n",
       "    .dataframe thead th {\n",
       "        text-align: right;\n",
       "    }\n",
       "</style>\n",
       "<table border=\"1\" class=\"dataframe\">\n",
       "  <thead>\n",
       "    <tr style=\"text-align: right;\">\n",
       "      <th></th>\n",
       "      <th>Province</th>\n",
       "      <th>Confirmed</th>\n",
       "    </tr>\n",
       "  </thead>\n",
       "  <tbody>\n",
       "    <tr>\n",
       "      <th>0</th>\n",
       "      <td>Seoul</td>\n",
       "      <td>560</td>\n",
       "    </tr>\n",
       "    <tr>\n",
       "      <th>1</th>\n",
       "      <td>Busan</td>\n",
       "      <td>85</td>\n",
       "    </tr>\n",
       "    <tr>\n",
       "      <th>2</th>\n",
       "      <td>Daegu</td>\n",
       "      <td>1705</td>\n",
       "    </tr>\n",
       "    <tr>\n",
       "      <th>3</th>\n",
       "      <td>Gwangju</td>\n",
       "      <td>29</td>\n",
       "    </tr>\n",
       "    <tr>\n",
       "      <th>4</th>\n",
       "      <td>Incheon</td>\n",
       "      <td>85</td>\n",
       "    </tr>\n",
       "    <tr>\n",
       "      <th>5</th>\n",
       "      <td>Daejeon</td>\n",
       "      <td>45</td>\n",
       "    </tr>\n",
       "    <tr>\n",
       "      <th>6</th>\n",
       "      <td>Ulsan</td>\n",
       "      <td>35</td>\n",
       "    </tr>\n",
       "    <tr>\n",
       "      <th>7</th>\n",
       "      <td>Sejong</td>\n",
       "      <td>9</td>\n",
       "    </tr>\n",
       "    <tr>\n",
       "      <th>8</th>\n",
       "      <td>Gyeonggi-do</td>\n",
       "      <td>452</td>\n",
       "    </tr>\n",
       "    <tr>\n",
       "      <th>9</th>\n",
       "      <td>Gangwon-do</td>\n",
       "      <td>23</td>\n",
       "    </tr>\n",
       "    <tr>\n",
       "      <th>10</th>\n",
       "      <td>Chungcheongbuk-do</td>\n",
       "      <td>32</td>\n",
       "    </tr>\n",
       "    <tr>\n",
       "      <th>11</th>\n",
       "      <td>Chungcheongnam-do</td>\n",
       "      <td>30</td>\n",
       "    </tr>\n",
       "    <tr>\n",
       "      <th>12</th>\n",
       "      <td>Jeollabuk-do</td>\n",
       "      <td>17</td>\n",
       "    </tr>\n",
       "    <tr>\n",
       "      <th>13</th>\n",
       "      <td>Jeollanam-do</td>\n",
       "      <td>22</td>\n",
       "    </tr>\n",
       "    <tr>\n",
       "      <th>14</th>\n",
       "      <td>Gyeongsangbuk-do</td>\n",
       "      <td>345</td>\n",
       "    </tr>\n",
       "    <tr>\n",
       "      <th>15</th>\n",
       "      <td>Gyeongsangnam-do</td>\n",
       "      <td>52</td>\n",
       "    </tr>\n",
       "    <tr>\n",
       "      <th>16</th>\n",
       "      <td>Jeju-do</td>\n",
       "      <td>18</td>\n",
       "    </tr>\n",
       "  </tbody>\n",
       "</table>\n",
       "</div>"
      ],
      "text/plain": [
       "             Province  Confirmed\n",
       "0               Seoul        560\n",
       "1               Busan         85\n",
       "2               Daegu       1705\n",
       "3             Gwangju         29\n",
       "4             Incheon         85\n",
       "5             Daejeon         45\n",
       "6               Ulsan         35\n",
       "7              Sejong          9\n",
       "8         Gyeonggi-do        452\n",
       "9          Gangwon-do         23\n",
       "10  Chungcheongbuk-do         32\n",
       "11  Chungcheongnam-do         30\n",
       "12       Jeollabuk-do         17\n",
       "13       Jeollanam-do         22\n",
       "14   Gyeongsangbuk-do        345\n",
       "15   Gyeongsangnam-do         52\n",
       "16            Jeju-do         18"
      ]
     },
     "execution_count": 61,
     "metadata": {},
     "output_type": "execute_result"
    }
   ],
   "source": [
    "# 위의 정보를 테이블로 만듦\n",
    "notGroup_infection = pd.DataFrame(\n",
    "    { \n",
    "    'Province' : ['Seoul', 'Busan', 'Daegu', 'Gwangju', 'Incheon', 'Daejeon',\n",
    "       'Ulsan', 'Sejong', 'Gyeonggi-do', 'Gangwon-do',\n",
    "       'Chungcheongbuk-do', 'Chungcheongnam-do', 'Jeollabuk-do',\n",
    "       'Jeollanam-do', 'Gyeongsangbuk-do', 'Gyeongsangnam-do', 'Jeju-do'],\n",
    "    'Confirmed':[560, 85, 1705, 29, 85, 45, 35, 9, 452, 23, 32, 30, 17, 22, 345, 52, 18]\n",
    "    },\n",
    ")\n",
    "notGroup_infection "
   ]
  },
  {
   "cell_type": "code",
   "execution_count": 62,
   "metadata": {},
   "outputs": [
    {
     "data": {
      "text/plain": [
       "<Signature (nrows=1, ncols=1, sharex=False, sharey=False, squeeze=True, subplot_kw=None, gridspec_kw=None, **fig_kw)>"
      ]
     },
     "execution_count": 62,
     "metadata": {},
     "output_type": "execute_result"
    },
    {
     "data": {
      "image/png": "[encoded data removed]",
      "text/plain": [
       "<Figure size 1080x576 with 1 Axes>"
      ]
     },
     "metadata": {
      "needs_background": "light"
     },
     "output_type": "display_data"
    }
   ],
   "source": [
    "grid = plt.figure(figsize = (15,8))\n",
    "grid = plt.xticks(rotation = 30)\n",
    "grid = sns.barplot(data = notGroup_infection , x='Province', y='Confirmed')\n",
    "sig(plt.subplots)"
   ]
  },
  {
   "cell_type": "markdown",
   "metadata": {},
   "source": [
    "3. 1.과 2.를 이용해 bar plot을 만듦"
   ]
  },
  {
   "cell_type": "code",
   "execution_count": 63,
   "metadata": {},
   "outputs": [
    {
     "data": {
      "image/png": "[encoded data removed]",
      "text/plain": [
       "<Figure size 432x288 with 1 Axes>"
      ]
     },
     "metadata": {
      "needs_background": "light"
     },
     "output_type": "display_data"
    }
   ],
   "source": [
    "labels = ['Seoul', 'Busan', 'Daegu', 'Gwangju', 'Incheon', 'Daejeon',\n",
    "       'Ulsan', 'Sejong', 'Gyeonggi-do', 'Gangwon-do',\n",
    "       'Chungcheongbuk-do', 'Chungcheongnam-do', 'Jeollabuk-do',\n",
    "       'Jeollanam-do', 'Gyeongsangbuk-do', 'Gyeongsangnam-do', 'Jeju-do']\n",
    "Group_Infection = [720, 71, 4975, 14, 117, 86, 16, 40, 548, 39, 28, 128, 6, 3, 979, 80, 1]\n",
    "Non_Group_Infection = [560, 85, 1705, 29, 85, 45, 35, 9, 452, 23, 32, 30, 17, 22, 345, 52, 18]\n",
    "\n",
    "\n",
    "width = 0.35       # the width of the bars: can also be len(x) sequence\n",
    "\n",
    "fig, grid = plt.subplots()\n",
    "# grid.set_figure(15,8)\n",
    "grid.bar(labels, Group_Infection, width,  label='Group_Infection')\n",
    "grid.bar(labels, Non_Group_Infection, width, bottom=Group_Infection,\n",
    "       label='Non_Group_Infection')\n",
    "plt.xticks(rotation=90)\n",
    "grid.set_ylabel('Confirmed')\n",
    "grid.set_title('<Group Infection vs Non Group Infection>')\n",
    "grid.legend()\n",
    "\n",
    "plt.show()"
   ]
  },
  {
   "cell_type": "code",
   "execution_count": null,
   "metadata": {},
   "outputs": [],
   "source": []
  }
 ],
 "metadata": {
  "kernelspec": {
   "display_name": "Python 3",
   "language": "python",
   "name": "python3"
  },
  "language_info": {
   "codemirror_mode": {
    "name": "ipython",
    "version": 3
   },
   "file_extension": ".py",
   "mimetype": "text/x-python",
   "name": "python",
   "nbconvert_exporter": "python",
   "pygments_lexer": "ipython3",
   "version": "3.6.9"
  }
 },
 "nbformat": 4,
 "nbformat_minor": 4
}
